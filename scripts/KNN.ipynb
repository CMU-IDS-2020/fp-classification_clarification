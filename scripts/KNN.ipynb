{
 "cells": [
  {
   "cell_type": "code",
   "execution_count": 2,
   "metadata": {},
   "outputs": [],
   "source": [
    "import pandas as pd\n",
    "from sklearn.neighbors import KNeighborsClassifier\n",
    "import matplotlib.pyplot as plt\n",
    "import math\n",
    "\n",
    "from sklearn.model_selection import train_test_split, cross_val_score"
   ]
  },
  {
   "cell_type": "markdown",
   "metadata": {},
   "source": [
    "# KNN Section"
   ]
  },
  {
   "cell_type": "code",
   "execution_count": 3,
   "metadata": {},
   "outputs": [],
   "source": [
    "train = pd.read_csv('train_data.csv')\n",
    "test = pd.read_csv('test_data.csv')\n",
    "\n",
    "X_train = train.drop(['High Income'], axis=1)\n",
    "y_train = train['High Income']\n",
    "\n",
    "X_test = test.drop(['High Income'], axis=1)\n",
    "y_test = test['High Income']"
   ]
  },
  {
   "cell_type": "markdown",
   "metadata": {},
   "source": [
    "### Calculate train/test accuracy with varied K"
   ]
  },
  {
   "cell_type": "code",
   "execution_count": 4,
   "metadata": {},
   "outputs": [],
   "source": [
    "k_values = [1, 2, 3, 4, 5, 10, 15, 20, 30, 32]\n",
    "train_accuracy = []\n",
    "test_accuracy = []\n",
    "for k in k_values:\n",
    "    knn = KNeighborsClassifier(n_neighbors = k)\n",
    "    knn.fit(X_train, y_train)\n",
    "    train_accuracy.append(knn.score(X_train, y_train))\n",
    "    test_accuracy.append(knn.score(X_test, y_test))"
   ]
  },
  {
   "cell_type": "code",
   "execution_count": 5,
   "metadata": {},
   "outputs": [
    {
     "name": "stdout",
     "output_type": "stream",
     "text": [
      "[1.0, 0.96875, 0.9375, 0.96875, 0.9375, 0.84375, 0.84375, 0.90625, 0.90625, 0.5]\n"
     ]
    }
   ],
   "source": [
    "print(train_accuracy)"
   ]
  },
  {
   "cell_type": "code",
   "execution_count": 6,
   "metadata": {},
   "outputs": [
    {
     "name": "stdout",
     "output_type": "stream",
     "text": [
      "[0.875, 1.0, 1.0, 1.0, 1.0, 1.0, 1.0, 1.0, 1.0, 0.5]\n"
     ]
    }
   ],
   "source": [
    "print(test_accuracy)"
   ]
  },
  {
   "cell_type": "markdown",
   "metadata": {},
   "source": [
    "### Plot for sanity check"
   ]
  },
  {
   "cell_type": "code",
   "execution_count": 7,
   "metadata": {},
   "outputs": [
    {
     "data": {
      "image/png": "[encoded data removed]",
      "text/plain": [
       "<Figure size 432x288 with 1 Axes>"
      ]
     },
     "metadata": {
      "needs_background": "light"
     },
     "output_type": "display_data"
    }
   ],
   "source": [
    "plt.title('k-NN with Different K Values')\n",
    "plt.plot(k_values, test_accuracy, label='Testing Accuracy')\n",
    "plt.plot(k_values, train_accuracy, label='Training Accuracy')\n",
    "plt.legend()\n",
    "plt.xlabel('Number of neighbors')\n",
    "plt.ylabel('Accuracy')\n",
    "plt.show()"
   ]
  },
  {
   "cell_type": "markdown",
   "metadata": {},
   "source": [
    "### Write into a CSV to use "
   ]
  },
  {
   "cell_type": "code",
   "execution_count": 8,
   "metadata": {},
   "outputs": [],
   "source": [
    "accuracies_tr = pd.DataFrame({\"k\": k_values, \"accuracy\": train_accuracy})\n",
    "accuracies_tr['type'] = 'train'\n",
    "\n",
    "accuracies_te = pd.DataFrame({\"k\": k_values, \"accuracy\": test_accuracy})\n",
    "accuracies_te['type'] = 'test'"
   ]
  },
  {
   "cell_type": "code",
   "execution_count": 9,
   "metadata": {},
   "outputs": [],
   "source": [
    "accuracies = pd.concat([accuracies_tr, accuracies_te])\n",
    "accuracies.to_csv('KNN_Accuracies.csv', index = False)"
   ]
  },
  {
   "cell_type": "markdown",
   "metadata": {},
   "source": [
    "# Model Performance Section"
   ]
  },
  {
   "cell_type": "code",
   "execution_count": 10,
   "metadata": {},
   "outputs": [
    {
     "name": "stderr",
     "output_type": "stream",
     "text": [
      "/opt/anaconda3/lib/python3.7/site-packages/ipykernel_launcher.py:8: SettingWithCopyWarning: \n",
      "A value is trying to be set on a copy of a slice from a DataFrame.\n",
      "Try using .loc[row_indexer,col_indexer] = value instead\n",
      "\n",
      "See the caveats in the documentation: https://pandas.pydata.org/pandas-docs/stable/user_guide/indexing.html#returning-a-view-versus-a-copy\n",
      "  \n"
     ]
    }
   ],
   "source": [
    "adult = pd.read_csv(\"adult.csv\")\n",
    "\n",
    "mask = adult.applymap(type) == bool\n",
    "d = {\">50K\": 1, \"<=50K\": 0}\n",
    "adult = adult.where(mask, adult.replace(d))\n",
    "\n",
    "data = adult[['age', 'education.num', 'income']]\n",
    "data['income'] = data[\"income\"].astype(str).astype(int)"
   ]
  },
  {
   "cell_type": "code",
   "execution_count": 11,
   "metadata": {},
   "outputs": [],
   "source": [
    "X = data.drop(['income'], axis=1)\n",
    "y = data['income']\n",
    "\n",
    "X_train, X_test, y_train, y_test = train_test_split(X, y, test_size = 0.25, random_state = 42)\n"
   ]
  },
  {
   "cell_type": "code",
   "execution_count": 12,
   "metadata": {},
   "outputs": [
    {
     "data": {
      "text/plain": [
       "'\\ntrain_accuracy = []\\ntest_accuracy = []\\nfor k in range(1, 1000, 10):\\n    print(k)\\n    knn = KNeighborsClassifier(n_neighbors = k)\\n    knn.fit(X_train, y_train)\\n    train_accuracy.append(knn.score(X_train, y_train))\\n    test_accuracy.append(knn.score(X_test, y_test))\\n'"
      ]
     },
     "execution_count": 12,
     "metadata": {},
     "output_type": "execute_result"
    }
   ],
   "source": [
    "\"\"\"\n",
    "train_accuracy = []\n",
    "test_accuracy = []\n",
    "for k in range(1, 1000, 10):\n",
    "    print(k)\n",
    "    knn = KNeighborsClassifier(n_neighbors = k)\n",
    "    knn.fit(X_train, y_train)\n",
    "    train_accuracy.append(knn.score(X_train, y_train))\n",
    "    test_accuracy.append(knn.score(X_test, y_test))\n",
    "\"\"\""
   ]
  },
  {
   "cell_type": "code",
   "execution_count": 13,
   "metadata": {},
   "outputs": [
    {
     "data": {
      "text/plain": [
       "\" \\nk_values = list(range(1, 1000, 10))\\n\\nplt.plot(k_values, test_accuracy, label='Testing Accuracy')\\nplt.plot(k_values, train_accuracy, label='Training Accuracy')\\nplt.legend()\\nplt.xlabel('Number of neighbors')\\nplt.ylabel('Accuracy')\\nplt.show()\\n\""
      ]
     },
     "execution_count": 13,
     "metadata": {},
     "output_type": "execute_result"
    }
   ],
   "source": [
    "\"\"\" \n",
    "k_values = list(range(1, 1000, 10))\n",
    "\n",
    "plt.plot(k_values, test_accuracy, label='Testing Accuracy')\n",
    "plt.plot(k_values, train_accuracy, label='Training Accuracy')\n",
    "plt.legend()\n",
    "plt.xlabel('Number of neighbors')\n",
    "plt.ylabel('Accuracy')\n",
    "plt.show()\n",
    "\"\"\""
   ]
  },
  {
   "cell_type": "code",
   "execution_count": 14,
   "metadata": {},
   "outputs": [
    {
     "data": {
      "text/plain": [
       "24420"
      ]
     },
     "execution_count": 14,
     "metadata": {},
     "output_type": "execute_result"
    }
   ],
   "source": [
    "len(X_train)"
   ]
  },
  {
   "cell_type": "code",
   "execution_count": 15,
   "metadata": {},
   "outputs": [
    {
     "data": {
      "text/plain": [
       "156.26899884494046"
      ]
     },
     "execution_count": 15,
     "metadata": {},
     "output_type": "execute_result"
    }
   ],
   "source": [
    "math.sqrt(24420)\n",
    "\n",
    "# https://stackoverflow.com/questions/11568897/value-of-k-in-k-nearest-neighbor-algorithm#:~:text=So%20the%20value%20of%20k,samples%20in%20your%20training%20dataset."
   ]
  },
  {
   "cell_type": "code",
   "execution_count": 16,
   "metadata": {},
   "outputs": [
    {
     "name": "stdout",
     "output_type": "stream",
     "text": [
      "[0.79115479 0.78931204 0.79381654 0.78112203 0.79115479]\n",
      "Train accuracy: 0.7940212940212941\n",
      "Test accuracy: 0.7884780739466896\n"
     ]
    }
   ],
   "source": [
    "# k = sqrt(n)\n",
    "knn = KNeighborsClassifier(n_neighbors = 157)\n",
    "print(cross_val_score(knn, X_train, y_train, cv=5))\n",
    "\n",
    "knn.fit(X_train, y_train)\n",
    "print(\"Train accuracy: \" + str(knn.score(X_train, y_train)))\n",
    "print(\"Test accuracy: \" + str(knn.score(X_test, y_test)))"
   ]
  },
  {
   "cell_type": "code",
   "execution_count": 17,
   "metadata": {},
   "outputs": [
    {
     "name": "stdout",
     "output_type": "stream",
     "text": [
      "[0.7956593  0.79176904 0.79484029 0.78132678 0.79361179]\n",
      "Train accuracy: 0.7945945945945946\n",
      "Test accuracy: 0.7867583834909716\n"
     ]
    }
   ],
   "source": [
    "# k = sqrt(n) / 2 (rounded up)\n",
    "knn = KNeighborsClassifier(n_neighbors = 79)\n",
    "print(cross_val_score(knn, X_train, y_train, cv=5))\n",
    "\n",
    "knn.fit(X_train, y_train)\n",
    "print(\"Train accuracy: \" + str(knn.score(X_train, y_train)))\n",
    "print(\"Test accuracy: \" + str(knn.score(X_test, y_test)))"
   ]
  },
  {
   "cell_type": "markdown",
   "metadata": {},
   "source": [
    "# Overall Table for Model Selection"
   ]
  },
  {
   "cell_type": "code",
   "execution_count": 20,
   "metadata": {},
   "outputs": [],
   "source": [
    "alg = [\"KNN\", \"Dt\", \"LogReg\"]\n",
    "training_accuracy = [0.794, 0.799, 0.783]\n",
    "test_accuracy = [.787, 0.784, 0.778]\n",
    "\n",
    "\n",
    "overall = pd.DataFrame({'alg': alg, \"train\": training_accuracy, \"test\": test_accuracy})\n",
    "overall.to_csv('model_selection.csv', index = False)"
   ]
  },
  {
   "cell_type": "code",
   "execution_count": null,
   "metadata": {},
   "outputs": [],
   "source": []
  }
 ],
 "metadata": {
  "kernelspec": {
   "display_name": "Python 3",
   "language": "python",
   "name": "python3"
  },
  "language_info": {
   "codemirror_mode": {
    "name": "ipython",
    "version": 3
   },
   "file_extension": ".py",
   "mimetype": "text/x-python",
   "name": "python",
   "nbconvert_exporter": "python",
   "pygments_lexer": "ipython3",
   "version": "3.7.6"
  }
 },
 "nbformat": 4,
 "nbformat_minor": 4
}
