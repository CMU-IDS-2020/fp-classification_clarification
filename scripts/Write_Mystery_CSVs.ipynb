{
 "cells": [
  {
   "cell_type": "code",
   "execution_count": 1,
   "metadata": {},
   "outputs": [],
   "source": [
    "import pandas as pd"
   ]
  },
  {
   "cell_type": "code",
   "execution_count": 6,
   "metadata": {},
   "outputs": [],
   "source": [
    "train = pd.read_csv('train_data.csv')\n",
    "\n",
    "mask_tr = train.applymap(type) != bool\n",
    "d = {True: 'High', False: 'Low'}\n",
    "train = train.where(mask_tr, train.replace(d))\n",
    "\n",
    "test = pd.read_csv('test_data.csv')\n",
    "mask_te = test.applymap(type) != bool\n",
    "test = test.where(mask_te, train.replace(d))"
   ]
  },
  {
   "cell_type": "code",
   "execution_count": 7,
   "metadata": {},
   "outputs": [],
   "source": [
    "mystery1 = test[test[\"Age\"] == 57]\n",
    "mystery1.iloc[0, 2] = \"Test\"\n",
    "mystery1_csv = pd.concat([train, mystery1])\n",
    "mystery1_csv.to_csv('mystery1.csv', index = False)"
   ]
  },
  {
   "cell_type": "code",
   "execution_count": 8,
   "metadata": {},
   "outputs": [],
   "source": [
    "mystery2 = test[test[\"Age\"] == 22]\n",
    "mystery2.iloc[0, 2] = \"Test\"\n",
    "mystery2_csv = pd.concat([train, mystery2])\n",
    "mystery2_csv.to_csv('mystery2.csv', index = False)"
   ]
  },
  {
   "cell_type": "code",
   "execution_count": 9,
   "metadata": {},
   "outputs": [],
   "source": [
    "mystery3 = test[test[\"Age\"] == 30]\n",
    "mystery3.iloc[0, 2] = \"Test\"\n",
    "mystery3_csv = pd.concat([train, mystery3])\n",
    "mystery3_csv.to_csv('mystery3.csv', index = False)"
   ]
  },
  {
   "cell_type": "code",
   "execution_count": null,
   "metadata": {},
   "outputs": [],
   "source": []
  }
 ],
 "metadata": {
  "kernelspec": {
   "display_name": "Python 3",
   "language": "python",
   "name": "python3"
  },
  "language_info": {
   "codemirror_mode": {
    "name": "ipython",
    "version": 3
   },
   "file_extension": ".py",
   "mimetype": "text/x-python",
   "name": "python",
   "nbconvert_exporter": "python",
   "pygments_lexer": "ipython3",
   "version": "3.7.6"
  }
 },
 "nbformat": 4,
 "nbformat_minor": 4
}
